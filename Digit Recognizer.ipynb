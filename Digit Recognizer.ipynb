{
 "cells": [
  {
   "cell_type": "markdown",
   "id": "2e4cf573",
   "metadata": {},
   "source": [
    "## Recognizing Handwritten Digits on MNIST Dataset using KNN"
   ]
  },
  {
   "cell_type": "code",
   "execution_count": 1,
   "id": "54f8f390",
   "metadata": {},
   "outputs": [],
   "source": [
    "import pandas as pd\n",
    "import numpy as np\n",
    "import matplotlib.pyplot as plt"
   ]
  },
  {
   "cell_type": "code",
   "execution_count": 2,
   "id": "f49f0c88",
   "metadata": {},
   "outputs": [],
   "source": [
    "df = pd.read_csv('train.csv')"
   ]
  },
  {
   "cell_type": "code",
   "execution_count": 4,
   "id": "81471217",
   "metadata": {},
   "outputs": [
    {
     "name": "stdout",
     "output_type": "stream",
     "text": [
      "(42000, 785)\n"
     ]
    }
   ],
   "source": [
    "print(df.shape)"
   ]
  },
  {
   "cell_type": "code",
   "execution_count": 7,
   "id": "712a3b0a",
   "metadata": {},
   "outputs": [],
   "source": [
    "data = df.values"
   ]
  },
  {
   "cell_type": "code",
   "execution_count": 8,
   "id": "25b116d7",
   "metadata": {},
   "outputs": [
    {
     "name": "stdout",
     "output_type": "stream",
     "text": [
      "(42000, 785)\n"
     ]
    }
   ],
   "source": [
    "print(data.shape)"
   ]
  },
  {
   "cell_type": "code",
   "execution_count": 44,
   "id": "64fb4b6d",
   "metadata": {},
   "outputs": [
    {
     "name": "stdout",
     "output_type": "stream",
     "text": [
      "[1 0 1 ... 7 6 9]\n"
     ]
    }
   ],
   "source": [
    "x = data[:, 1:]\n",
    "y = data[:, 0]"
   ]
  },
  {
   "cell_type": "code",
   "execution_count": 11,
   "id": "124654b4",
   "metadata": {},
   "outputs": [
    {
     "name": "stdout",
     "output_type": "stream",
     "text": [
      "(42000, 784) (42000,)\n"
     ]
    }
   ],
   "source": [
    "print(x.shape,y.shape)"
   ]
  },
  {
   "cell_type": "code",
   "execution_count": 15,
   "id": "c8b1f871",
   "metadata": {},
   "outputs": [
    {
     "data": {
      "text/plain": [
       "33600"
      ]
     },
     "execution_count": 15,
     "metadata": {},
     "output_type": "execute_result"
    }
   ],
   "source": [
    "# train test split for better testing of algorithm\n",
    "split = int(0.8*x.shape[0])\n",
    "split"
   ]
  },
  {
   "cell_type": "code",
   "execution_count": 17,
   "id": "3a87ea11",
   "metadata": {},
   "outputs": [],
   "source": [
    "# taking 80 % of the original data for training\n",
    "x_train = x[:split, :]\n",
    "y_train = y[:split]"
   ]
  },
  {
   "cell_type": "code",
   "execution_count": 18,
   "id": "bbb104ca",
   "metadata": {},
   "outputs": [],
   "source": [
    "# taking 20 % of the original data for testing \n",
    "# this is used for better training of the model we have built using the KNN algorithm \n",
    "x_test = x[split:, :]\n",
    "y_test = y[split:]"
   ]
  },
  {
   "cell_type": "code",
   "execution_count": 19,
   "id": "8b820dbc",
   "metadata": {},
   "outputs": [
    {
     "name": "stdout",
     "output_type": "stream",
     "text": [
      "(33600, 784) (33600,)\n"
     ]
    }
   ],
   "source": [
    "print(x_train.shape, y_train.shape)"
   ]
  },
  {
   "cell_type": "code",
   "execution_count": 20,
   "id": "ead189be",
   "metadata": {
    "scrolled": true
   },
   "outputs": [
    {
     "name": "stdout",
     "output_type": "stream",
     "text": [
      "(8400, 784) (8400,)\n"
     ]
    }
   ],
   "source": [
    "print(x_test.shape, y_test.shape)"
   ]
  },
  {
   "cell_type": "code",
   "execution_count": 42,
   "id": "ed492893",
   "metadata": {},
   "outputs": [],
   "source": [
    "# visualise some samples\n",
    "def drawImage(sample):\n",
    "    # reshape that image\n",
    "    img = sample.reshape((28,28))\n",
    "    plt.imshow(img,cmap = 'gray')\n",
    "    plt.show()"
   ]
  },
  {
   "cell_type": "code",
   "execution_count": 45,
   "id": "e9bc98f1",
   "metadata": {},
   "outputs": [
    {
     "data": {
      "image/png": "[encoded data removed]",
      "text/plain": [
       "<Figure size 432x288 with 1 Axes>"
      ]
     },
     "metadata": {
      "needs_background": "light"
     },
     "output_type": "display_data"
    },
    {
     "name": "stdout",
     "output_type": "stream",
     "text": [
      "1\n"
     ]
    }
   ],
   "source": [
    "drawImage(x_train[0])\n",
    "print(y_train[0])"
   ]
  },
  {
   "cell_type": "code",
   "execution_count": 47,
   "id": "057aadb6",
   "metadata": {},
   "outputs": [],
   "source": [
    "def distance(x1,x2):\n",
    "    return np.sqrt(sum((x1-x2)**2))"
   ]
  },
  {
   "cell_type": "code",
   "execution_count": 50,
   "id": "78ca624d",
   "metadata": {},
   "outputs": [],
   "source": [
    "def knn(x,y,querypoint,k=5):\n",
    "    vals = []\n",
    "    for i in range(x.shape[0]):\n",
    "        d = distance(querypoint,x[i])\n",
    "        vals.append((d,y[i]))\n",
    "    \n",
    "    vals = sorted(vals)\n",
    "    vals = vals[:k]\n",
    "    \n",
    "    vals = np.array(vals)\n",
    "    \n",
    "    new_vals = np.unique(vals[:,1],return_counts = True)\n",
    "    \n",
    "    index = new_vals[1].argmax()\n",
    "    pred = new_vals[0][index]\n",
    "    return pred"
   ]
  },
  {
   "cell_type": "code",
   "execution_count": 68,
   "id": "ddc27d63",
   "metadata": {},
   "outputs": [],
   "source": [
    "# make predictions over test images\n",
    "count = 0\n",
    "for i in range(40):\n",
    "    pred=knn(x_train,y_train,x_test[i])\n",
    "    if(pred == y_test[i]):\n",
    "        count+=1\n",
    "accuracy = count/len(x_test)"
   ]
  },
  {
   "cell_type": "code",
   "execution_count": 71,
   "id": "2734f16c",
   "metadata": {},
   "outputs": [
    {
     "name": "stdout",
     "output_type": "stream",
     "text": [
      "38\n",
      "0.95\n"
     ]
    }
   ],
   "source": [
    "# Accuracy of the model\n",
    "print(count/40)"
   ]
  }
 ],
 "metadata": {
  "kernelspec": {
   "display_name": "Python 3 (ipykernel)",
   "language": "python",
   "name": "python3"
  },
  "language_info": {
   "codemirror_mode": {
    "name": "ipython",
    "version": 3
   },
   "file_extension": ".py",
   "mimetype": "text/x-python",
   "name": "python",
   "nbconvert_exporter": "python",
   "pygments_lexer": "ipython3",
   "version": "3.9.12"
  }
 },
 "nbformat": 4,
 "nbformat_minor": 5
}
